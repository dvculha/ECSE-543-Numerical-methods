{
 "cells": [
  {
   "cell_type": "code",
   "execution_count": 38,
   "metadata": {},
   "outputs": [],
   "source": [
    "import numpy as np\n",
    "import pandas as pd\n",
    "import matplotlib.pyplot as plt\n",
    "import math\n",
    "from sympy import symbols"
   ]
  },
  {
   "cell_type": "code",
   "execution_count": 39,
   "metadata": {},
   "outputs": [],
   "source": [
    "def lagrange_interpolation(points_x, points_y):  \n",
    "    param = symbols('x')\n",
    "    n = len(points_x)\n",
    "    Ljx = [None for j in range (n)]    \n",
    "    # For j = 1,2,3,4,....n\n",
    "    #Ljx = Fjx / Fjxj\n",
    "    for j in range (n):\n",
    "        Fjx = 1\n",
    "        Fjxj = 1\n",
    "        yx = 0\n",
    "        for r in range (n):\n",
    "            if (r != j):\n",
    "                # Fjx = PRODUCT (x-xr)\n",
    "                Fjx = Fjx * (param - points_x[r])\n",
    "                Fjxj = Fjxj * (points_x[j] - points_x[r])\n",
    "                Ljx[j] = Fjx.expand()/Fjxj\n",
    "    # yx = SUM (aj*Ljx)\n",
    "    for j in range (n):\n",
    "        yx = yx + points_y[j] * Ljx[j]             \n",
    "    return yx \n"
   ]
  },
  {
   "cell_type": "code",
   "execution_count": 40,
   "metadata": {},
   "outputs": [
    {
     "name": "stdout",
     "output_type": "stream",
     "text": [
      "Part A\n",
      "B =  [0.0, 0.2, 0.4, 0.6, 0.8, 1.0]\n",
      "H =  [0.0, 14.7, 36.5, 71.7, 121.4, 197.4]\n",
      "414.062500000009*x**5 - 963.54166666669*x**4 + 873.437500000015*x**3 - 215.208333333338*x**2 + 88.6500000000005*x\n"
     ]
    }
   ],
   "source": [
    "###PART A\n",
    "B = [0.0, 0.2, 0.4, 0.6, 0.8, 1.0, 1.1, 1.2, 1.3, 1.4, 1.5, 1.6, 1.7, 1.8, 1.9]\n",
    "H = [0.0, 14.7, 36.5, 71.7, 121.4, 197.4, 256.2, 348.7, 540.6, 1062.8, 2318.0, 4781.9, 8687.4, 13924.3, 22650.2]\n",
    "\n",
    "\n",
    "print ('Part A')\n",
    "points_x = [0.0, 0.2, 0.4, 0.6, 0.8, 1.0]\n",
    "print ('B = ', points_x)\n",
    "points_y = [0.0, 14.7, 36.5, 71.7, 121.4, 197.4]\n",
    "print ('H = ', points_y)\n",
    "a = lagrange_interpolation(points_x, points_y)\n",
    "print (a)"
   ]
  },
  {
   "cell_type": "code",
   "execution_count": 41,
   "metadata": {},
   "outputs": [
    {
     "data": {
      "image/png": "[encoded data removed]",
      "text/plain": [
       "<Figure size 432x288 with 1 Axes>"
      ]
     },
     "metadata": {
      "needs_background": "light"
     },
     "output_type": "display_data"
    }
   ],
   "source": [
    "### PART A PLOT\n",
    "plt.plot(points_y, points_x, 'bo', color = \"red\" )\n",
    "#plt.plot(N, R, '', color = \"red\")\n",
    "\n",
    "x = np.linspace(0,1.5)\n",
    "y = 414.062500000009*x**5 - 963.54166666669*x**4 + 873.437500000015*x**3 - 215.208333333338*x**2 + 88.6500000000005*x\n",
    "plt.plot(y,x, 'r',color = 'blue',label = 'Approximated Function')\n",
    "\n",
    "plt.xlabel('H in A/m')\n",
    "plt.ylabel('B in T')\n",
    "\n",
    "plt.title('B vs. H')\n",
    "plt.show()"
   ]
  },
  {
   "cell_type": "code",
   "execution_count": 42,
   "metadata": {},
   "outputs": [
    {
     "name": "stdout",
     "output_type": "stream",
     "text": [
      "Part B\n",
      "B =  [0.0, 1.3, 1.4, 1.7, 1.8, 1.9]\n",
      "H =  [0.0, 540.6, 1062.8, 8687.4, 13924.3, 22650.2]\n",
      "156393.280524088*x**5 - 966235.57224511*x**4 + 2253820.22115058*x**3 - 2337828.82945774*x**2 + 906781.854422079*x\n"
     ]
    }
   ],
   "source": [
    "###PART B\n",
    "print ('Part B')\n",
    "points_x = [0.0, 1.3, 1.4, 1.7, 1.8, 1.9]\n",
    "print ('B = ', points_x)\n",
    "points_y = [0.0, 540.6, 1062.8, 8687.4, 13924.3, 22650.2]\n",
    "print ('H = ', points_y)\n",
    "b = lagrange_interpolation(points_x, points_y)\n",
    "print (b)"
   ]
  },
  {
   "cell_type": "code",
   "execution_count": 43,
   "metadata": {},
   "outputs": [
    {
     "data": {
      "image/png": "[encoded data removed]",
      "text/plain": [
       "<Figure size 432x288 with 1 Axes>"
      ]
     },
     "metadata": {
      "needs_background": "light"
     },
     "output_type": "display_data"
    }
   ],
   "source": [
    "### PART B PLOT\n",
    "plt.plot(points_y, points_x, 'bo', color = \"red\" )\n",
    "#plt.plot(N, R, '', color = \"red\")\n",
    "\n",
    "x = np.linspace(0,2.1)\n",
    "y = 156393.280524088*x**5 - 966235.57224511*x**4 + 2253820.22115058*x**3 - 2337828.82945774*x**2 + 906781.854422079*x\n",
    "plt.plot(y,x, 'r',color = 'blue',label = 'Approximated Function')\n",
    "\n",
    "plt.xlabel('H in A/m')\n",
    "plt.ylabel('B in T')\n",
    "\n",
    "plt.title('B vs. H')\n",
    "plt.show()"
   ]
  },
  {
   "cell_type": "code",
   "execution_count": 44,
   "metadata": {},
   "outputs": [],
   "source": [
    "def cubic_hermite_interpolation(points_x, points_y):\n",
    "    param = symbols('x')\n",
    "    l = len(points_x)\n",
    "    yf = [0 for i in range(l - 1)]\n",
    "    for i in range(l - 1):\n",
    "        ydiff1 = (points_y[i + 1] - points_y[i])/(points_x[i + 1] - points_x[i])\n",
    "        if i == l - 2:\n",
    "            ydiff2 = points_y[i + 1] / points_x[i]\n",
    "        else:\n",
    "            ydiff2 = (points_y[i + 2] - points_y[i + 1]) / (points_x[i + 2] - points_x[i + 1])\n",
    "        U1 = (1 - 2 * (param - points_x[i])/(points_x[i] - points_x[i + 1]))*((param - points_x[i + 1])/(points_x[i] - points_x[i + 1]))**2\n",
    "        U2 = (1 - 2 * (param - points_x[i + 1])/(points_x[i + 1] - points_x[i]))*((param - points_x[i])/(points_x[i + 1] - points_x[i]))**2\n",
    "        V1 = (param - points_x[i])*((param - points_x[i + 1])/(points_x[i] - points_x[i + 1]))**2\n",
    "        V2 = (param - points_x[i + 1])*((param - points_x[i])/(points_x[i + 1] - points_x[i]))**2\n",
    "        yf[i] = (points_y[i]*U1 + points_y[i + 1]*U2 + ydiff1*V1 + ydiff2*V2).expand()\n",
    "    return yf"
   ]
  },
  {
   "cell_type": "code",
   "execution_count": 45,
   "metadata": {},
   "outputs": [
    {
     "name": "stdout",
     "output_type": "stream",
     "text": [
      "Part C\n",
      "B =  [0.0, 1.3, 1.4, 1.7, 1.8, 1.9]\n",
      "H =  [0.0, 540.6, 1062.8, 8687.4, 13924.3, 22650.2]\n",
      "[2843.87801547565*x**3 - 3697.04142011835*x**2 + 415.846153846154*x, 2019333.33333334*x**3 - 8077333.33333335*x**2 + 10768268.6666667*x - 4783990.66666668, 299485.185185185*x**3 - 1347683.33333333*x**2 + 2037955.77777777*x - 1032403.3037037, 3489000.0*x**3 - 18142800.0*x**2 + 31488259.0000001*x - 18230117.9000001, -7467555.5555556*x**3 + 41071555.5555558*x**2 - 75185701.0000003*x + 45827130.1000002]\n"
     ]
    }
   ],
   "source": [
    "    print ('Part C')\n",
    "    points_x = [0.0, 1.3, 1.4, 1.7, 1.8, 1.9]\n",
    "    print ('B = ', points_x)\n",
    "    points_y = [0.0, 540.6, 1062.8, 8687.4, 13924.3, 22650.2]\n",
    "    print ('H = ', points_y)\n",
    "    c = cubic_hermite_interpolation(points_x, points_y)\n",
    "    print (c)"
   ]
  },
  {
   "cell_type": "code",
   "execution_count": 46,
   "metadata": {},
   "outputs": [
    {
     "data": {
      "image/png": "[encoded data removed]",
      "text/plain": [
       "<Figure size 432x288 with 1 Axes>"
      ]
     },
     "metadata": {
      "needs_background": "light"
     },
     "output_type": "display_data"
    }
   ],
   "source": [
    "### PART C PLOT\n",
    "plt.plot(points_y, points_x, 'bo', color = \"red\" )\n",
    "#plt.plot(N, R, '', color = \"red\")\n",
    "\n",
    "x = np.linspace(0,2.8)\n",
    "#x = symbols('x')\n",
    "y = 1734143651.25328*x**11 - 25207926897.7832*x**10 + 162399433111.204*x**9 - 608575443897.498*x**8 + 1461887595863.9*x**7 - 2334363871440.5*x**6 + 2477827584159.56*x**5 - 1685862719604.6*x**4 + 667146472719.584*x**3 - 116995129475.364*x**2 + 415.846153846154*x\n",
    "plt.plot(y,x, 'r',color = 'orange',label = 'Approximated Function')\n",
    "\n",
    "#plt.plot(y, (x,0,100),xlabel='B',ylabel='H')\n",
    "\n",
    "plt.xlabel('B')\n",
    "plt.ylabel('H')\n",
    "\n",
    "plt.title('H vs. B')\n",
    "plt.show()"
   ]
  },
  {
   "cell_type": "code",
   "execution_count": null,
   "metadata": {},
   "outputs": [],
   "source": []
  }
 ],
 "metadata": {
  "kernelspec": {
   "display_name": "Python 3",
   "language": "python",
   "name": "python3"
  },
  "language_info": {
   "codemirror_mode": {
    "name": "ipython",
    "version": 3
   },
   "file_extension": ".py",
   "mimetype": "text/x-python",
   "name": "python",
   "nbconvert_exporter": "python",
   "pygments_lexer": "ipython3",
   "version": "3.7.6"
  }
 },
 "nbformat": 4,
 "nbformat_minor": 4
}
