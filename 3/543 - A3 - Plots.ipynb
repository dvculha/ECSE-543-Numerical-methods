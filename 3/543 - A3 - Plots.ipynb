{
 "cells": [
  {
   "cell_type": "code",
   "execution_count": 2,
   "metadata": {},
   "outputs": [],
   "source": [
    "import numpy as np\n",
    "import pandas as pd\n",
    "import matplotlib.pyplot as plt\n",
    "import math\n",
    "from sympy import symbols, diff, lambdify, expand"
   ]
  },
  {
   "cell_type": "code",
   "execution_count": 5,
   "metadata": {},
   "outputs": [],
   "source": [
    "def lagrange_interpolation (points_x, points_y):  \n",
    "    param = symbols('x')\n",
    "    n = len(points_x)\n",
    "    yx = 0\n",
    "    Ljx = [0.0 for j in range (n)]    \n",
    "    a = [None for j in range (n)]\n",
    "    # For j = 0,1,2,....,n   \n",
    "    for j in range (n):\n",
    "        Fjx = 1\n",
    "        Fjxj = 1\n",
    "        for r in range (n):\n",
    "            if (r != j):\n",
    "                # Fjx = PRODUCT (x-xr)\n",
    "                Fjx = Fjx * (param - points_x[r])\n",
    "                Fjxj = Fjxj * (points_x[j] - points_x[r])\n",
    "        #Ljx = Fjx / Fjxj\n",
    "        Ljx[j] = Fjx.expand()/Fjxj\n",
    "\n",
    "    # a[j] = y(j)\n",
    "    for j in range (n):\n",
    "        a[j] = points_y[j]\n",
    "\n",
    "    # yx = SUM (aj*Ljx)\n",
    "    for j in range (n):\n",
    "        yx = yx + a[j] * Ljx[j]             \n",
    "    return yx "
   ]
  },
  {
   "cell_type": "code",
   "execution_count": 6,
   "metadata": {},
   "outputs": [
    {
     "name": "stdout",
     "output_type": "stream",
     "text": [
      "Part A\n",
      "B =  [0.0, 0.2, 0.4, 0.6, 0.8, 1.0]\n",
      "H =  [0.0, 14.7, 36.5, 71.7, 121.4, 197.4]\n",
      "414.062500000009*x**5 - 963.54166666669*x**4 + 873.437500000015*x**3 - 215.208333333338*x**2 + 88.6500000000005*x\n"
     ]
    }
   ],
   "source": [
    "###PART A\n",
    "B = [0.0, 0.2, 0.4, 0.6, 0.8, 1.0, 1.1, 1.2, 1.3, 1.4, 1.5, 1.6, 1.7, 1.8, 1.9]\n",
    "H = [0.0, 14.7, 36.5, 71.7, 121.4, 197.4, 256.2, 348.7, 540.6, 1062.8, 2318.0, 4781.9, 8687.4, 13924.3, 22650.2]\n",
    "\n",
    "\n",
    "print ('Part A')\n",
    "points_x = [0.0, 0.2, 0.4, 0.6, 0.8, 1.0]\n",
    "print ('B = ', points_x)\n",
    "points_y = [0.0, 14.7, 36.5, 71.7, 121.4, 197.4]\n",
    "print ('H = ', points_y)\n",
    "a = lagrange_interpolation(points_x, points_y)\n",
    "print (a)"
   ]
  },
  {
   "cell_type": "code",
   "execution_count": 7,
   "metadata": {},
   "outputs": [
    {
     "data": {
      "image/png": "[encoded data removed]",
      "text/plain": [
       "<Figure size 432x288 with 1 Axes>"
      ]
     },
     "metadata": {
      "needs_background": "light"
     },
     "output_type": "display_data"
    }
   ],
   "source": [
    "### PART A PLOT\n",
    "plt.plot(points_y, points_x, 'bo', color = \"red\" )\n",
    "#plt.plot(N, R, '', color = \"red\")\n",
    "\n",
    "x = np.linspace(0,1.5)\n",
    "y = 414.062500000009*x**5 - 963.54166666669*x**4 + 873.437500000015*x**3 - 215.208333333338*x**2 + 88.6500000000005*x\n",
    "plt.plot(y,x, 'r',color = 'blue',label = 'Approximated Function')\n",
    "\n",
    "plt.xlabel('H in A/m')\n",
    "plt.ylabel('B in T')\n",
    "\n",
    "plt.title('B vs. H')\n",
    "plt.show()"
   ]
  },
  {
   "cell_type": "code",
   "execution_count": 8,
   "metadata": {},
   "outputs": [
    {
     "name": "stdout",
     "output_type": "stream",
     "text": [
      "Part B\n",
      "B =  [0.0, 1.3, 1.4, 1.7, 1.8, 1.9]\n",
      "H =  [0.0, 540.6, 1062.8, 8687.4, 13924.3, 22650.2]\n",
      "156393.280524088*x**5 - 966235.57224511*x**4 + 2253820.22115058*x**3 - 2337828.82945774*x**2 + 906781.854422079*x\n"
     ]
    }
   ],
   "source": [
    "###PART B\n",
    "print ('Part B')\n",
    "points_x = [0.0, 1.3, 1.4, 1.7, 1.8, 1.9]\n",
    "print ('B = ', points_x)\n",
    "points_y = [0.0, 540.6, 1062.8, 8687.4, 13924.3, 22650.2]\n",
    "print ('H = ', points_y)\n",
    "b = lagrange_interpolation(points_x, points_y)\n",
    "print (b)"
   ]
  },
  {
   "cell_type": "code",
   "execution_count": 9,
   "metadata": {},
   "outputs": [
    {
     "data": {
      "image/png": "[encoded data removed]",
      "text/plain": [
       "<Figure size 432x288 with 1 Axes>"
      ]
     },
     "metadata": {
      "needs_background": "light"
     },
     "output_type": "display_data"
    }
   ],
   "source": [
    "### PART B PLOT\n",
    "plt.plot(points_y, points_x, 'bo', color = \"red\" )\n",
    "#plt.plot(N, R, '', color = \"red\")\n",
    "\n",
    "x = np.linspace(0,2.1)\n",
    "y = 156393.280524088*x**5 - 966235.57224511*x**4 + 2253820.22115058*x**3 - 2337828.82945774*x**2 + 906781.854422079*x\n",
    "plt.plot(y,x, 'r',color = 'blue',label = 'Approximated Function')\n",
    "\n",
    "plt.xlabel('H in A/m')\n",
    "plt.ylabel('B in T')\n",
    "\n",
    "plt.title('B vs. H')\n",
    "plt.show()"
   ]
  },
  {
   "cell_type": "code",
   "execution_count": 12,
   "metadata": {},
   "outputs": [],
   "source": [
    "\n",
    "def cubic_hermite(points_x,points_y):\n",
    "    n = len(points_x)\n",
    "    param = symbols('x')\n",
    "    Ujx = []\n",
    "    Vjx = []\n",
    "    yx = 0\n",
    "    # Lj(x)\n",
    "    Ljx = [None for j in range (n)]\n",
    "    #L'j(x)\n",
    "    Ljx_prime = [None for j in range (n)]\n",
    "    b = [None for j in range (n)] \n",
    "    a = [None for j in range (n)] \n",
    "\n",
    "    for j in range(n):\n",
    "        Fjx = 1\n",
    "        Fjxj = 1\n",
    "        for r in range (n):\n",
    "            if (r != j):\n",
    "                # Fjx = PRODUCT (x-xr)\n",
    "                Fjx = Fjx * (param - points_x[r])\n",
    "                Fjxj = Fjxj * (points_x[j] - points_x[r])\n",
    "        # To obtain Lj(x)\n",
    "        # Lj(x) = Fjx / Fjxj\n",
    "        Ljx = Fjx.expand() / Fjxj\n",
    "\n",
    "        #To obtain L'j(x), diff Lj(x) / dx\n",
    "        Ljx_prime = lambdify(param, diff(Ljx))\n",
    "\n",
    "        U = (1 - 2 * Ljx_prime(points_x[j]) * (param - points_x[j]))*(Ljx**2)\n",
    "        Ujx.append(U)\n",
    "        V = (param - points_x[j])*(Ljx * Ljx)\n",
    "        Vjx.append(V)\n",
    "\n",
    "    # a[j] = y(j)\n",
    "    for j in range (n):\n",
    "        a[j] = points_y[j]\n",
    "\n",
    "    # b[j] = y'(j)\n",
    "    for j in range (n):\n",
    "        if (j < (n-1)):    \n",
    "            b[j] = (points_y[j + 1] - points_y[j]) / (points_x[j + 1] - points_x[j])\n",
    "        elif (j == (n-1)):\n",
    "            b[j] = points_y[j]/points_x[j]\n",
    "\n",
    "    # y(x) = SUM (a*Ujx + b*Vjx)\n",
    "    for j in range(n):\n",
    "        yx = yx + a[j]*Ujx[j] + b[j]*Vjx[j]\n",
    "    yx = expand(yx)\n",
    "    return yx\n"
   ]
  },
  {
   "cell_type": "code",
   "execution_count": 13,
   "metadata": {},
   "outputs": [
    {
     "name": "stdout",
     "output_type": "stream",
     "text": [
      "Part C\n",
      "B =  [0.0, 1.3, 1.4, 1.7, 1.8, 1.9]\n",
      "H =  [0.0, 540.6, 1062.8, 8687.4, 13924.3, 22650.2]\n",
      "H =  1734143651.0417*x**11 - 25207926894.739*x**10 + 162399433091.79*x**9 - 608575443825.474*x**8 + 1461887595692.59*x**7 - 2334363871169.64*x**6 + 2477827583874.83*x**5 - 1685862719412.73*x**4 + 667146472644.371*x**3 - 116995129462.297*x**2 + 415.846153846154*x\n"
     ]
    }
   ],
   "source": [
    "    print ('Part C')\n",
    "    points_x = [0.0, 1.3, 1.4, 1.7, 1.8, 1.9]\n",
    "    print ('B = ', points_x)\n",
    "    points_y = [0.0, 540.6, 1062.8, 8687.4, 13924.3, 22650.2]\n",
    "    print ('H = ', points_y)\n",
    "    c = cubic_hermite(points_x, points_y)\n",
    "    print ('H = ',c)"
   ]
  },
  {
   "cell_type": "code",
   "execution_count": 14,
   "metadata": {},
   "outputs": [
    {
     "data": {
      "image/png": "[encoded data removed]",
      "text/plain": [
       "<Figure size 432x288 with 1 Axes>"
      ]
     },
     "metadata": {
      "needs_background": "light"
     },
     "output_type": "display_data"
    }
   ],
   "source": [
    "### PART C PLOT\n",
    "plt.plot(points_y, points_x, 'bo', color = \"red\" )\n",
    "#plt.plot(N, R, '', color = \"red\")\n",
    "\n",
    "x = np.linspace(0,2.8)\n",
    "#x = symbols('x')\n",
    "y = 1734143651.0417*x**11 - 25207926894.739*x**10 + 162399433091.79*x**9 - 608575443825.474*x**8 + 1461887595692.59*x**7 - 2334363871169.64*x**6 + 2477827583874.83*x**5 - 1685862719412.73*x**4 + 667146472644.371*x**3 - 116995129462.297*x**2 + 415.846153846154*x\n",
    "plt.plot(y,x, 'r',color = 'blue',label = 'Approximated Function')\n",
    "\n",
    "#plt.plot(y, (x,0,100),xlabel='B',ylabel='H')\n",
    "\n",
    "plt.xlabel('H in A/m')\n",
    "plt.ylabel('B in T')\n",
    "\n",
    "plt.title('B vs. H')\n",
    "plt.show()"
   ]
  },
  {
   "cell_type": "code",
   "execution_count": 44,
   "metadata": {},
   "outputs": [
    {
     "data": {
      "image/png": "[encoded data removed]",
      "text/plain": [
       "<Figure size 432x288 with 1 Axes>"
      ]
     },
     "metadata": {
      "needs_background": "light"
     },
     "output_type": "display_data"
    },
    {
     "data": {
      "image/png": "[encoded data removed]",
      "text/plain": [
       "<Figure size 432x288 with 1 Axes>"
      ]
     },
     "metadata": {
      "needs_background": "light"
     },
     "output_type": "display_data"
    }
   ],
   "source": [
    "#QUESTION 2B\n",
    "\n",
    "i1 = [1,2,3,4,5,6]\n",
    "f1 = [0.03797622055434545,0.005918277697945149,0.0003541257681694866,9.406043097598404e-07,8.462917866491892e-12,0.0]\n",
    "i2 = [1,2,3,4,5,6]\n",
    "f2 = [4.8001808035091884e-05,1.1538035340957757e-05,4.869660430844707e-07,1.627918842005767e-09,1.2450340780047198e-14,6.776263578034403e-21]\n",
    "\n",
    "pd.set_option(\"display.max_rows\", 200)\n",
    "plt.plot(i1, f1, 'bo', color = \"red\" )\n",
    "plt.plot(i1, f1, '', color = \"red\")\n",
    "\n",
    "plt.xlabel('Iteration Number')\n",
    "plt.ylabel('|f1|')\n",
    "\n",
    "plt.title('|f1| vs. Iteration Number')\n",
    "plt.show()\n",
    "\n",
    "plt.plot(i2, f2, 'bo', color = \"red\" )\n",
    "plt.plot(i2, f2, '', color = \"red\")\n",
    "\n",
    "plt.xlabel('Iteration Number')\n",
    "plt.ylabel('|f2|')\n",
    "\n",
    "plt.title('|f2| vs. Iteration Number')\n",
    "plt.show()"
   ]
  },
  {
   "cell_type": "code",
   "execution_count": 34,
   "metadata": {},
   "outputs": [
    {
     "data": {
      "text/html": [
       "<div>\n",
       "<style scoped>\n",
       "    .dataframe tbody tr th:only-of-type {\n",
       "        vertical-align: middle;\n",
       "    }\n",
       "\n",
       "    .dataframe tbody tr th {\n",
       "        vertical-align: top;\n",
       "    }\n",
       "\n",
       "    .dataframe thead th {\n",
       "        text-align: right;\n",
       "    }\n",
       "</style>\n",
       "<table border=\"1\" class=\"dataframe\">\n",
       "  <thead>\n",
       "    <tr style=\"text-align: right;\">\n",
       "      <th></th>\n",
       "      <th># iteration</th>\n",
       "      <th>|f1|</th>\n",
       "      <th>|f2|</th>\n",
       "    </tr>\n",
       "  </thead>\n",
       "  <tbody>\n",
       "    <tr>\n",
       "      <th>0</th>\n",
       "      <td>1</td>\n",
       "      <td>3.797622e-02</td>\n",
       "      <td>4.800181e-05</td>\n",
       "    </tr>\n",
       "    <tr>\n",
       "      <th>1</th>\n",
       "      <td>2</td>\n",
       "      <td>5.918278e-03</td>\n",
       "      <td>1.153804e-05</td>\n",
       "    </tr>\n",
       "    <tr>\n",
       "      <th>2</th>\n",
       "      <td>3</td>\n",
       "      <td>3.541258e-04</td>\n",
       "      <td>4.869660e-07</td>\n",
       "    </tr>\n",
       "    <tr>\n",
       "      <th>3</th>\n",
       "      <td>4</td>\n",
       "      <td>9.406043e-07</td>\n",
       "      <td>1.627919e-09</td>\n",
       "    </tr>\n",
       "    <tr>\n",
       "      <th>4</th>\n",
       "      <td>5</td>\n",
       "      <td>8.462918e-12</td>\n",
       "      <td>1.245034e-14</td>\n",
       "    </tr>\n",
       "    <tr>\n",
       "      <th>5</th>\n",
       "      <td>6</td>\n",
       "      <td>0.000000e+00</td>\n",
       "      <td>6.776264e-21</td>\n",
       "    </tr>\n",
       "  </tbody>\n",
       "</table>\n",
       "</div>"
      ],
      "text/plain": [
       "   # iteration          |f1|          |f2|\n",
       "0            1  3.797622e-02  4.800181e-05\n",
       "1            2  5.918278e-03  1.153804e-05\n",
       "2            3  3.541258e-04  4.869660e-07\n",
       "3            4  9.406043e-07  1.627919e-09\n",
       "4            5  8.462918e-12  1.245034e-14\n",
       "5            6  0.000000e+00  6.776264e-21"
      ]
     },
     "execution_count": 34,
     "metadata": {},
     "output_type": "execute_result"
    }
   ],
   "source": [
    "new_dataframe = pd.DataFrame(\n",
    "{\n",
    "\"# iteration\": i1,\n",
    "\"|f1|\": f1,\n",
    "\"|f2|\": f2\n",
    "}\n",
    ")\n",
    "\n",
    "pd.set_option(\"display.max_columns\", 200)\n",
    "\n",
    "new_dataframe"
   ]
  },
  {
   "cell_type": "code",
   "execution_count": null,
   "metadata": {},
   "outputs": [],
   "source": []
  }
 ],
 "metadata": {
  "kernelspec": {
   "display_name": "Python 3",
   "language": "python",
   "name": "python3"
  },
  "language_info": {
   "codemirror_mode": {
    "name": "ipython",
    "version": 3
   },
   "file_extension": ".py",
   "mimetype": "text/x-python",
   "name": "python",
   "nbconvert_exporter": "python",
   "pygments_lexer": "ipython3",
   "version": "3.7.6"
  }
 },
 "nbformat": 4,
 "nbformat_minor": 4
}
